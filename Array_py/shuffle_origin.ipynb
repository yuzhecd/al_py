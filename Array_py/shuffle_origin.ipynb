{
 "cells": [
  {
   "cell_type": "code",
   "execution_count": 1,
   "metadata": {},
   "outputs": [],
   "source": [
    "import random"
   ]
  },
  {
   "cell_type": "markdown",
   "metadata": {},
   "source": [
    "## First method"
   ]
  },
  {
   "cell_type": "code",
   "execution_count": 2,
   "metadata": {},
   "outputs": [
    {
     "data": {
      "text/plain": [
       "[0, 1, 2, 3, 4, 5, 6, 7, 8, 9]"
      ]
     },
     "execution_count": 2,
     "metadata": {},
     "output_type": "execute_result"
    }
   ],
   "source": [
    "cards = [i for i in range(10)]\n",
    "cards"
   ]
  },
  {
   "cell_type": "code",
   "execution_count": 3,
   "metadata": {},
   "outputs": [],
   "source": [
    "# first method use random.shuffle()\n",
    "def first_shuffle(cards):\n",
    "    random.shuffle(cards)\n",
    "    return cards"
   ]
  },
  {
   "cell_type": "code",
   "execution_count": 4,
   "metadata": {},
   "outputs": [
    {
     "data": {
      "text/plain": [
       "[8, 9, 2, 1, 0, 5, 3, 4, 7, 6]"
      ]
     },
     "execution_count": 4,
     "metadata": {},
     "output_type": "execute_result"
    }
   ],
   "source": [
    "shuffle_cards = first_shuffle(cards)\n",
    "shuffle_cards"
   ]
  },
  {
   "cell_type": "markdown",
   "metadata": {},
   "source": [
    "## Second method"
   ]
  },
  {
   "cell_type": "code",
   "execution_count": 5,
   "metadata": {},
   "outputs": [
    {
     "data": {
      "text/plain": [
       "[0, 1, 2, 3, 4, 5, 6, 7, 8, 9]"
      ]
     },
     "execution_count": 5,
     "metadata": {},
     "output_type": "execute_result"
    }
   ],
   "source": [
    "cards = [i for i in range(0,10)]\n",
    "cards"
   ]
  },
  {
   "cell_type": "code",
   "execution_count": 6,
   "metadata": {},
   "outputs": [
    {
     "data": {
      "text/plain": [
       "10"
      ]
     },
     "execution_count": 6,
     "metadata": {},
     "output_type": "execute_result"
    }
   ],
   "source": [
    "len(cards)"
   ]
  },
  {
   "cell_type": "code",
   "execution_count": 7,
   "metadata": {},
   "outputs": [],
   "source": [
    "#second method O(n)\n",
    "def second_shuffle(cards):\n",
    "    num_cards = len(cards)\n",
    "    shuffle_cards = []\n",
    "    shuffle_num_use = num_cards\n",
    "    for i in range(0, num_cards):\n",
    "        shuffle_num = random.randint(0, shuffle_num_use - 1)\n",
    "        shuffle_cards.append(cards[shuffle_num])\n",
    "        cards.pop(shuffle_num)\n",
    "        shuffle_num_use -= 1\n",
    "    return shuffle_cards\n",
    "        "
   ]
  },
  {
   "cell_type": "code",
   "execution_count": 8,
   "metadata": {},
   "outputs": [
    {
     "data": {
      "text/plain": [
       "[0, 8, 9, 4, 2, 6, 7, 3, 1, 5]"
      ]
     },
     "execution_count": 8,
     "metadata": {},
     "output_type": "execute_result"
    }
   ],
   "source": [
    "shuffle_cards_second = second_shuffle(cards)\n",
    "shuffle_cards_second"
   ]
  },
  {
   "cell_type": "code",
   "execution_count": 9,
   "metadata": {},
   "outputs": [
    {
     "data": {
      "text/plain": [
       "10"
      ]
     },
     "execution_count": 9,
     "metadata": {},
     "output_type": "execute_result"
    }
   ],
   "source": [
    "len(shuffle_cards_second)"
   ]
  },
  {
   "cell_type": "markdown",
   "metadata": {},
   "source": [
    "## Test unit"
   ]
  },
  {
   "cell_type": "code",
   "execution_count": 10,
   "metadata": {},
   "outputs": [],
   "source": [
    "def test_shuffle(method_use):\n",
    "    cards_count = [[0 for i in range(10)] for j in range(10)]\n",
    "    for i in range(1000):\n",
    "        cards = [i for i in range(10)]\n",
    "        cards_num = len(cards)\n",
    "        shuffle_cards = method_use(cards)\n",
    "        for j in range(cards_num):\n",
    "            for k in range(cards_num):\n",
    "                if j == shuffle_cards[k]:\n",
    "                    cards_count[j][k] += 1\n",
    "    return cards_count\n",
    "                    "
   ]
  },
  {
   "cell_type": "code",
   "execution_count": 11,
   "metadata": {},
   "outputs": [
    {
     "data": {
      "text/plain": [
       "[[88, 103, 104, 83, 129, 99, 85, 103, 100, 106],\n",
       " [102, 107, 93, 97, 94, 106, 99, 93, 120, 89],\n",
       " [103, 100, 85, 111, 97, 83, 110, 110, 96, 105],\n",
       " [95, 98, 89, 100, 100, 109, 105, 97, 106, 101],\n",
       " [97, 102, 83, 108, 105, 108, 98, 97, 98, 104],\n",
       " [103, 86, 115, 99, 106, 89, 99, 105, 96, 102],\n",
       " [92, 109, 116, 105, 78, 109, 93, 95, 96, 107],\n",
       " [98, 111, 108, 93, 93, 92, 109, 98, 96, 102],\n",
       " [107, 86, 105, 100, 114, 94, 97, 94, 97, 106],\n",
       " [115, 98, 102, 104, 84, 111, 105, 108, 95, 78]]"
      ]
     },
     "execution_count": 11,
     "metadata": {},
     "output_type": "execute_result"
    }
   ],
   "source": [
    "cards_first_count = test_shuffle(first_shuffle)\n",
    "cards_first_count"
   ]
  },
  {
   "cell_type": "code",
   "execution_count": 12,
   "metadata": {
    "scrolled": true
   },
   "outputs": [
    {
     "data": {
      "text/plain": [
       "[[108, 103, 110, 90, 103, 91, 100, 95, 103, 97],\n",
       " [96, 99, 91, 101, 97, 98, 100, 94, 106, 118],\n",
       " [82, 102, 108, 109, 113, 103, 88, 103, 76, 116],\n",
       " [103, 89, 103, 110, 113, 104, 96, 100, 104, 78],\n",
       " [92, 100, 95, 101, 95, 96, 104, 125, 90, 102],\n",
       " [102, 98, 106, 103, 102, 104, 103, 99, 91, 92],\n",
       " [113, 105, 116, 78, 89, 103, 99, 105, 91, 101],\n",
       " [88, 95, 89, 97, 92, 101, 123, 92, 124, 99],\n",
       " [114, 103, 81, 112, 91, 100, 98, 93, 115, 93],\n",
       " [102, 106, 101, 99, 105, 100, 89, 94, 100, 104]]"
      ]
     },
     "execution_count": 12,
     "metadata": {},
     "output_type": "execute_result"
    }
   ],
   "source": [
    "cards_second_count = test_shuffle(second_shuffle)\n",
    "cards_second_count"
   ]
  },
  {
   "cell_type": "code",
   "execution_count": null,
   "metadata": {},
   "outputs": [],
   "source": []
  }
 ],
 "metadata": {
  "kernelspec": {
   "display_name": "Python 3",
   "language": "python",
   "name": "python3"
  },
  "language_info": {
   "codemirror_mode": {
    "name": "ipython",
    "version": 3
   },
   "file_extension": ".py",
   "mimetype": "text/x-python",
   "name": "python",
   "nbconvert_exporter": "python",
   "pygments_lexer": "ipython3",
   "version": "3.6.3"
  }
 },
 "nbformat": 4,
 "nbformat_minor": 2
}
