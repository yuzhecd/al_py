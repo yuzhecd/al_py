{
 "cells": [
  {
   "cell_type": "code",
   "execution_count": 2,
   "metadata": {},
   "outputs": [],
   "source": [
    "import random"
   ]
  },
  {
   "cell_type": "code",
   "execution_count": 1,
   "metadata": {},
   "outputs": [],
   "source": [
    "from time import time"
   ]
  },
  {
   "cell_type": "markdown",
   "metadata": {},
   "source": [
    "## First method"
   ]
  },
  {
   "cell_type": "code",
   "execution_count": 3,
   "metadata": {},
   "outputs": [
    {
     "data": {
      "text/plain": [
       "[0, 1, 2, 3, 4, 5, 6, 7, 8, 9]"
      ]
     },
     "execution_count": 3,
     "metadata": {},
     "output_type": "execute_result"
    }
   ],
   "source": [
    "cards = [i for i in range(10)]\n",
    "cards"
   ]
  },
  {
   "cell_type": "code",
   "execution_count": 4,
   "metadata": {},
   "outputs": [],
   "source": [
    "# first method use random.shuffle()\n",
    "def first_shuffle(cards):\n",
    "    random.shuffle(cards)\n",
    "    return cards"
   ]
  },
  {
   "cell_type": "code",
   "execution_count": 5,
   "metadata": {},
   "outputs": [
    {
     "data": {
      "text/plain": [
       "[9, 7, 8, 5, 6, 0, 4, 2, 1, 3]"
      ]
     },
     "execution_count": 5,
     "metadata": {},
     "output_type": "execute_result"
    }
   ],
   "source": [
    "shuffle_cards = first_shuffle(cards)\n",
    "shuffle_cards"
   ]
  },
  {
   "cell_type": "markdown",
   "metadata": {},
   "source": [
    "## Second method"
   ]
  },
  {
   "cell_type": "code",
   "execution_count": 6,
   "metadata": {},
   "outputs": [
    {
     "data": {
      "text/plain": [
       "[0, 1, 2, 3, 4, 5, 6, 7, 8, 9]"
      ]
     },
     "execution_count": 6,
     "metadata": {},
     "output_type": "execute_result"
    }
   ],
   "source": [
    "cards = [i for i in range(0,10)]\n",
    "cards"
   ]
  },
  {
   "cell_type": "code",
   "execution_count": 7,
   "metadata": {},
   "outputs": [
    {
     "data": {
      "text/plain": [
       "10"
      ]
     },
     "execution_count": 7,
     "metadata": {},
     "output_type": "execute_result"
    }
   ],
   "source": [
    "len(cards)"
   ]
  },
  {
   "cell_type": "code",
   "execution_count": 8,
   "metadata": {},
   "outputs": [],
   "source": [
    "#second method O(n)\n",
    "def second_shuffle(cards):\n",
    "    num_cards = len(cards)\n",
    "    shuffle_cards = []\n",
    "    shuffle_num_use = num_cards\n",
    "    for i in range(0, num_cards):\n",
    "        shuffle_num = random.randint(0, shuffle_num_use - 1)\n",
    "        shuffle_cards.append(cards[shuffle_num])\n",
    "        cards.pop(shuffle_num)\n",
    "        shuffle_num_use -= 1\n",
    "    return shuffle_cards\n",
    "        "
   ]
  },
  {
   "cell_type": "code",
   "execution_count": 9,
   "metadata": {},
   "outputs": [
    {
     "data": {
      "text/plain": [
       "[1, 7, 8, 2, 3, 0, 4, 5, 6, 9]"
      ]
     },
     "execution_count": 9,
     "metadata": {},
     "output_type": "execute_result"
    }
   ],
   "source": [
    "shuffle_cards_second = second_shuffle(cards)\n",
    "shuffle_cards_second"
   ]
  },
  {
   "cell_type": "code",
   "execution_count": 10,
   "metadata": {},
   "outputs": [
    {
     "data": {
      "text/plain": [
       "10"
      ]
     },
     "execution_count": 10,
     "metadata": {},
     "output_type": "execute_result"
    }
   ],
   "source": [
    "len(shuffle_cards_second)"
   ]
  },
  {
   "cell_type": "markdown",
   "metadata": {},
   "source": [
    "### second method improve"
   ]
  },
  {
   "cell_type": "code",
   "execution_count": 11,
   "metadata": {},
   "outputs": [],
   "source": [
    "def second_improve(cards):\n",
    "    for i in range(len(cards)-1):\n",
    "        cards_index =  random.randint(i, len(cards)-1)\n",
    "        cards[i], cards[cards_index] = cards[cards_index], cards[i]"
   ]
  },
  {
   "cell_type": "code",
   "execution_count": 12,
   "metadata": {},
   "outputs": [
    {
     "data": {
      "text/plain": [
       "[0, 1, 2, 3, 4, 5, 6, 7, 8, 9]"
      ]
     },
     "execution_count": 12,
     "metadata": {},
     "output_type": "execute_result"
    }
   ],
   "source": [
    "cards = [i for i in range(10)]\n",
    "cards"
   ]
  },
  {
   "cell_type": "code",
   "execution_count": 13,
   "metadata": {},
   "outputs": [
    {
     "data": {
      "text/plain": [
       "[1, 8, 4, 9, 5, 2, 3, 6, 0, 7]"
      ]
     },
     "execution_count": 13,
     "metadata": {},
     "output_type": "execute_result"
    }
   ],
   "source": [
    "second_improve(cards)\n",
    "cards"
   ]
  },
  {
   "cell_type": "markdown",
   "metadata": {},
   "source": [
    "## Test unit"
   ]
  },
  {
   "cell_type": "code",
   "execution_count": 14,
   "metadata": {},
   "outputs": [],
   "source": [
    "def test_shuffle(method_use):\n",
    "    start = time()\n",
    "    cards_count = [[0 for i in range(10)] for j in range(10)]\n",
    "    for i in range(10000):\n",
    "        cards = [i for i in range(10)]\n",
    "        cards_num = len(cards) \n",
    "        shuffle_cards = method_use(cards)\n",
    "        for j in range(cards_num):\n",
    "            for k in range(cards_num):\n",
    "                if j == shuffle_cards[k]:\n",
    "                    cards_count[j][k] +=1\n",
    "    end = time()\n",
    "    time_use = end - start\n",
    "    return cards_count, time_use\n",
    "                    "
   ]
  },
  {
   "cell_type": "code",
   "execution_count": 17,
   "metadata": {},
   "outputs": [],
   "source": [
    "def test_shuffle_improve(method_use):\n",
    "    start = time()\n",
    "    cards_count = [[0 for i in range(10)] for j in range(10)]\n",
    "    for i in range(10000):\n",
    "        cards = [i for i in range(10)]\n",
    "        cards_num = len(cards) \n",
    "        method_use(cards)\n",
    "        for j in range(cards_num):\n",
    "            cards_count[cards[j]][j] += 1\n",
    "    end = time()\n",
    "    time_use = end - start\n",
    "    return cards_count, time_use\n",
    "                    "
   ]
  },
  {
   "cell_type": "code",
   "execution_count": 15,
   "metadata": {},
   "outputs": [
    {
     "data": {
      "text/plain": [
       "([[1014, 1025, 1005, 1008, 986, 985, 1031, 959, 995, 992],\n",
       "  [998, 1015, 998, 990, 998, 1008, 984, 1012, 1002, 995],\n",
       "  [979, 978, 985, 1005, 1028, 979, 1021, 1039, 1018, 968],\n",
       "  [988, 1030, 1015, 1027, 1005, 987, 944, 1017, 977, 1010],\n",
       "  [1011, 982, 1048, 967, 953, 1027, 1002, 1022, 1027, 961],\n",
       "  [956, 971, 938, 965, 1038, 1019, 998, 1018, 1046, 1051],\n",
       "  [1051, 985, 972, 1050, 962, 1041, 1047, 920, 974, 998],\n",
       "  [1030, 963, 1027, 1025, 1001, 941, 992, 1006, 981, 1034],\n",
       "  [996, 1052, 985, 1016, 984, 1001, 989, 989, 975, 1013],\n",
       "  [977, 999, 1027, 947, 1045, 1012, 992, 1018, 1005, 978]],\n",
       " 0.18647527694702148)"
      ]
     },
     "execution_count": 15,
     "metadata": {},
     "output_type": "execute_result"
    }
   ],
   "source": [
    "cards_first_count, time_use = test_shuffle(first_shuffle)\n",
    "cards_first_count, time_use"
   ]
  },
  {
   "cell_type": "code",
   "execution_count": 16,
   "metadata": {
    "scrolled": true
   },
   "outputs": [
    {
     "data": {
      "text/plain": [
       "([[995, 971, 1029, 981, 1008, 1045, 981, 981, 992, 1017],\n",
       "  [1011, 1018, 985, 978, 986, 1022, 999, 989, 1014, 998],\n",
       "  [1002, 1008, 1014, 982, 988, 992, 981, 1031, 1020, 982],\n",
       "  [990, 1002, 1015, 985, 973, 1009, 1022, 978, 1019, 1007],\n",
       "  [1039, 931, 945, 1033, 1012, 997, 1047, 993, 957, 1046],\n",
       "  [1001, 1013, 994, 1042, 995, 978, 985, 984, 1004, 1004],\n",
       "  [1016, 990, 961, 1014, 1037, 996, 982, 1018, 1014, 972],\n",
       "  [1016, 1032, 1021, 924, 1016, 968, 1053, 1008, 962, 1000],\n",
       "  [982, 1045, 975, 1037, 986, 963, 955, 1063, 994, 1000],\n",
       "  [948, 990, 1061, 1024, 999, 1030, 995, 955, 1024, 974]],\n",
       " 0.3895435333251953)"
      ]
     },
     "execution_count": 16,
     "metadata": {},
     "output_type": "execute_result"
    }
   ],
   "source": [
    "cards_second_count, time_use = test_shuffle(second_shuffle)\n",
    "cards_second_count, time_use"
   ]
  },
  {
   "cell_type": "code",
   "execution_count": 18,
   "metadata": {},
   "outputs": [
    {
     "data": {
      "text/plain": [
       "([[1008, 1037, 1011, 1022, 992, 1004, 982, 983, 990, 971],\n",
       "  [1017, 958, 1005, 999, 1049, 985, 1007, 1015, 990, 975],\n",
       "  [1011, 994, 1017, 963, 1040, 1009, 989, 993, 1013, 971],\n",
       "  [1029, 996, 997, 1007, 949, 1040, 992, 995, 998, 997],\n",
       "  [966, 1021, 1015, 1013, 1005, 1020, 996, 965, 984, 1015],\n",
       "  [989, 1010, 1036, 973, 983, 1006, 1027, 991, 994, 991],\n",
       "  [1017, 957, 975, 978, 1037, 988, 967, 1037, 992, 1052],\n",
       "  [974, 985, 1011, 1005, 975, 1003, 1001, 1043, 997, 1006],\n",
       "  [990, 1005, 956, 987, 980, 1018, 1028, 999, 1025, 1012],\n",
       "  [999, 1037, 977, 1053, 990, 927, 1011, 979, 1017, 1010]],\n",
       " 0.16109490394592285)"
      ]
     },
     "execution_count": 18,
     "metadata": {},
     "output_type": "execute_result"
    }
   ],
   "source": [
    "cards_count_improve, time_use = test_shuffle_improve(second_improve)\n",
    "cards_count_improve, time_use"
   ]
  },
  {
   "cell_type": "code",
   "execution_count": null,
   "metadata": {},
   "outputs": [],
   "source": []
  }
 ],
 "metadata": {
  "kernelspec": {
   "display_name": "Python 3",
   "language": "python",
   "name": "python3"
  },
  "language_info": {
   "codemirror_mode": {
    "name": "ipython",
    "version": 3
   },
   "file_extension": ".py",
   "mimetype": "text/x-python",
   "name": "python",
   "nbconvert_exporter": "python",
   "pygments_lexer": "ipython3",
   "version": "3.6.3"
  }
 },
 "nbformat": 4,
 "nbformat_minor": 2
}
