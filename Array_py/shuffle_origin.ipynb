{
 "cells": [
  {
   "cell_type": "code",
   "execution_count": 1,
   "metadata": {},
   "outputs": [],
   "source": [
    "import random"
   ]
  },
  {
   "cell_type": "markdown",
   "metadata": {},
   "source": [
    "## First method"
   ]
  },
  {
   "cell_type": "code",
   "execution_count": 2,
   "metadata": {},
   "outputs": [
    {
     "data": {
      "text/plain": [
       "[0, 1, 2, 3, 4, 5, 6, 7, 8, 9]"
      ]
     },
     "execution_count": 2,
     "metadata": {},
     "output_type": "execute_result"
    }
   ],
   "source": [
    "cards = [i for i in range(10)]\n",
    "cards"
   ]
  },
  {
   "cell_type": "code",
   "execution_count": 3,
   "metadata": {},
   "outputs": [],
   "source": [
    "# first method use random.shuffle()\n",
    "def first_shuffle(cards):\n",
    "    random.shuffle(cards)\n",
    "    return cards"
   ]
  },
  {
   "cell_type": "code",
   "execution_count": 4,
   "metadata": {},
   "outputs": [
    {
     "data": {
      "text/plain": [
       "[2, 5, 4, 3, 1, 7, 8, 0, 6, 9]"
      ]
     },
     "execution_count": 4,
     "metadata": {},
     "output_type": "execute_result"
    }
   ],
   "source": [
    "shuffle_cards = first_shuffle(cards)\n",
    "shuffle_cards"
   ]
  },
  {
   "cell_type": "markdown",
   "metadata": {},
   "source": [
    "## Second method"
   ]
  },
  {
   "cell_type": "code",
   "execution_count": 5,
   "metadata": {},
   "outputs": [
    {
     "data": {
      "text/plain": [
       "[0, 1, 2, 3, 4, 5, 6, 7, 8, 9]"
      ]
     },
     "execution_count": 5,
     "metadata": {},
     "output_type": "execute_result"
    }
   ],
   "source": [
    "cards = [i for i in range(0,10)]\n",
    "cards"
   ]
  },
  {
   "cell_type": "code",
   "execution_count": 6,
   "metadata": {},
   "outputs": [
    {
     "data": {
      "text/plain": [
       "10"
      ]
     },
     "execution_count": 6,
     "metadata": {},
     "output_type": "execute_result"
    }
   ],
   "source": [
    "len(cards)"
   ]
  },
  {
   "cell_type": "code",
   "execution_count": 7,
   "metadata": {},
   "outputs": [],
   "source": [
    "#second method O(n)\n",
    "def second_shuffle(cards):\n",
    "    num_cards = len(cards)\n",
    "    shuffle_cards = []\n",
    "    shuffle_num_use = num_cards\n",
    "    for i in range(0, num_cards):\n",
    "        shuffle_num = random.randint(0, shuffle_num_use - 1)\n",
    "        shuffle_cards.append(cards[shuffle_num])\n",
    "        cards.pop(shuffle_num)\n",
    "        shuffle_num_use -= 1\n",
    "    return shuffle_cards\n",
    "        "
   ]
  },
  {
   "cell_type": "code",
   "execution_count": 8,
   "metadata": {},
   "outputs": [
    {
     "data": {
      "text/plain": [
       "[1, 8, 3, 7, 6, 4, 9, 2, 5, 0]"
      ]
     },
     "execution_count": 8,
     "metadata": {},
     "output_type": "execute_result"
    }
   ],
   "source": [
    "shuffle_cards_second = second_shuffle(cards)\n",
    "shuffle_cards_second"
   ]
  },
  {
   "cell_type": "code",
   "execution_count": 9,
   "metadata": {},
   "outputs": [
    {
     "data": {
      "text/plain": [
       "10"
      ]
     },
     "execution_count": 9,
     "metadata": {},
     "output_type": "execute_result"
    }
   ],
   "source": [
    "len(shuffle_cards_second)"
   ]
  },
  {
   "cell_type": "markdown",
   "metadata": {},
   "source": [
    "### second method improve"
   ]
  },
  {
   "cell_type": "code",
   "execution_count": 10,
   "metadata": {},
   "outputs": [],
   "source": [
    "def second_improve(cards):\n",
    "    for i in range(len(cards)-1):\n",
    "        cards_index =  random.randint(i, len(cards)-1)\n",
    "        cards[i], cards[cards_index] = cards[cards_index], cards[i]"
   ]
  },
  {
   "cell_type": "code",
   "execution_count": 11,
   "metadata": {},
   "outputs": [
    {
     "data": {
      "text/plain": [
       "[0, 1, 2, 3, 4, 5, 6, 7, 8, 9]"
      ]
     },
     "execution_count": 11,
     "metadata": {},
     "output_type": "execute_result"
    }
   ],
   "source": [
    "cards = [i for i in range(10)]\n",
    "cards"
   ]
  },
  {
   "cell_type": "code",
   "execution_count": 12,
   "metadata": {},
   "outputs": [
    {
     "data": {
      "text/plain": [
       "[2, 9, 8, 4, 5, 0, 6, 7, 3, 1]"
      ]
     },
     "execution_count": 12,
     "metadata": {},
     "output_type": "execute_result"
    }
   ],
   "source": [
    "second_improve(cards)\n",
    "cards"
   ]
  },
  {
   "cell_type": "markdown",
   "metadata": {},
   "source": [
    "## Test unit"
   ]
  },
  {
   "cell_type": "code",
   "execution_count": 13,
   "metadata": {},
   "outputs": [],
   "source": [
    "def test_shuffle(method_use):\n",
    "    cards_count = [[0 for i in range(10)] for j in range(10)]\n",
    "    for i in range(10000):\n",
    "        cards = [i for i in range(10)]\n",
    "        cards_num = len(cards) \n",
    "        shuffle_cards = method_use(cards)\n",
    "        for j in range(cards_num):\n",
    "            for k in range(cards_num):\n",
    "                if j == shuffle_cards[k]:\n",
    "                    cards_count[j][k] +=1\n",
    "    return cards_count\n",
    "                    "
   ]
  },
  {
   "cell_type": "code",
   "execution_count": 14,
   "metadata": {},
   "outputs": [],
   "source": [
    "def test_shuffle_improve(method_use):\n",
    "    cards_count = [[0 for i in range(10)] for j in range(10)]\n",
    "    for i in range(10000):\n",
    "        cards = [i for i in range(10)]\n",
    "        cards_num = len(cards) \n",
    "        method_use(cards)\n",
    "        for j in range(cards_num):\n",
    "            cards_count[cards[j]][j] += 1\n",
    "    return cards_count\n",
    "                    "
   ]
  },
  {
   "cell_type": "code",
   "execution_count": 15,
   "metadata": {},
   "outputs": [
    {
     "data": {
      "text/plain": [
       "[[985, 1020, 983, 1045, 1024, 1016, 998, 915, 986, 1028],\n",
       " [945, 951, 1018, 983, 973, 1042, 1065, 1019, 1003, 1001],\n",
       " [1066, 963, 991, 964, 1042, 981, 975, 983, 1010, 1025],\n",
       " [1002, 990, 989, 1004, 1010, 1000, 965, 1078, 965, 997],\n",
       " [993, 1046, 988, 1000, 972, 1011, 1015, 989, 977, 1009],\n",
       " [975, 1004, 963, 1055, 1010, 1027, 986, 977, 1028, 975],\n",
       " [1013, 1076, 1019, 928, 1022, 940, 1015, 1005, 973, 1009],\n",
       " [1020, 988, 1040, 984, 1002, 978, 1015, 986, 1001, 986],\n",
       " [981, 978, 968, 1035, 941, 986, 1041, 1064, 1020, 986],\n",
       " [1020, 984, 1041, 1002, 1004, 1019, 925, 984, 1037, 984]]"
      ]
     },
     "execution_count": 15,
     "metadata": {},
     "output_type": "execute_result"
    }
   ],
   "source": [
    "cards_first_count = test_shuffle(first_shuffle)\n",
    "cards_first_count"
   ]
  },
  {
   "cell_type": "code",
   "execution_count": 16,
   "metadata": {
    "scrolled": true
   },
   "outputs": [
    {
     "data": {
      "text/plain": [
       "[[952, 1017, 988, 1025, 1016, 1021, 968, 1039, 1008, 966],\n",
       " [991, 992, 1005, 1031, 1014, 1033, 1026, 953, 993, 962],\n",
       " [1048, 979, 1009, 961, 969, 1012, 954, 1043, 1008, 1017],\n",
       " [986, 948, 966, 941, 1056, 958, 1080, 1000, 1039, 1026],\n",
       " [1061, 1047, 1018, 1001, 958, 973, 936, 994, 1054, 958],\n",
       " [968, 997, 1023, 1060, 957, 986, 981, 972, 1014, 1042],\n",
       " [1039, 974, 1003, 982, 990, 1021, 1040, 1005, 931, 1015],\n",
       " [987, 1027, 971, 1032, 1014, 980, 1006, 1012, 994, 977],\n",
       " [1007, 1009, 1029, 1016, 965, 976, 999, 1003, 967, 1029],\n",
       " [961, 1010, 988, 951, 1061, 1040, 1010, 979, 992, 1008]]"
      ]
     },
     "execution_count": 16,
     "metadata": {},
     "output_type": "execute_result"
    }
   ],
   "source": [
    "cards_second_count = test_shuffle(second_shuffle)\n",
    "cards_second_count"
   ]
  },
  {
   "cell_type": "code",
   "execution_count": 17,
   "metadata": {},
   "outputs": [
    {
     "data": {
      "text/plain": [
       "[[1009, 1014, 980, 981, 1023, 963, 978, 963, 1065, 1024],\n",
       " [982, 990, 990, 1060, 982, 984, 1000, 1062, 978, 972],\n",
       " [1027, 1006, 1049, 986, 985, 1032, 979, 985, 970, 981],\n",
       " [964, 1028, 979, 996, 1009, 1023, 1028, 1004, 988, 981],\n",
       " [987, 963, 1045, 1037, 988, 1024, 999, 1006, 964, 987],\n",
       " [1066, 999, 962, 1023, 947, 997, 972, 1015, 1020, 999],\n",
       " [994, 1041, 1027, 966, 984, 994, 973, 969, 1020, 1032],\n",
       " [1039, 1028, 972, 972, 1037, 967, 1011, 995, 989, 990],\n",
       " [994, 920, 1012, 985, 1029, 996, 1024, 1039, 987, 1014],\n",
       " [938, 1011, 984, 994, 1016, 1020, 1036, 962, 1019, 1020]]"
      ]
     },
     "execution_count": 17,
     "metadata": {},
     "output_type": "execute_result"
    }
   ],
   "source": [
    "test_shuffle_improve(second_improve)"
   ]
  }
 ],
 "metadata": {
  "kernelspec": {
   "display_name": "Python 3",
   "language": "python",
   "name": "python3"
  },
  "language_info": {
   "codemirror_mode": {
    "name": "ipython",
    "version": 3
   },
   "file_extension": ".py",
   "mimetype": "text/x-python",
   "name": "python",
   "nbconvert_exporter": "python",
   "pygments_lexer": "ipython3",
   "version": "3.6.3"
  }
 },
 "nbformat": 4,
 "nbformat_minor": 2
}
