{
 "cells": [
  {
   "cell_type": "code",
   "execution_count": 1,
   "metadata": {},
   "outputs": [],
   "source": [
    "from time import time"
   ]
  },
  {
   "cell_type": "code",
   "execution_count": 2,
   "metadata": {},
   "outputs": [],
   "source": [
    "def goldbach(n):\n",
    "    start = time()\n",
    "    n_boolean = [True] * (n + 1)\n",
    "    n_prime = [0, 1]\n",
    "    i = 2\n",
    "    while i * i <= n:\n",
    "        if n_boolean[i]:\n",
    "            j = i\n",
    "            n_prime.append(i)\n",
    "        while j * i <= n:\n",
    "            n_boolean[j * i] = False\n",
    "            j += 1\n",
    "        i += 1\n",
    "    while i <= n:\n",
    "        if n_boolean[i]:\n",
    "            n_prime.append(i)\n",
    "        i += 1\n",
    "        \n",
    "    left = 0\n",
    "    right = len(n_prime) - 1\n",
    "    while left < right:\n",
    "        if n_prime[left] + n_prime[right] == n:\n",
    "            print(n, ' = ', n_prime[left], ' + ', n_prime[right])\n",
    "            left += 1\n",
    "            right -= 1\n",
    "        elif n_prime[left] + n_prime[right] < n:\n",
    "            left += 1\n",
    "        else:\n",
    "            right -= 1\n",
    "    end = time()\n",
    "    return end - start\n",
    "        "
   ]
  },
  {
   "cell_type": "code",
   "execution_count": 3,
   "metadata": {},
   "outputs": [
    {
     "name": "stdout",
     "output_type": "stream",
     "text": [
      "100  =  3  +  97\n",
      "100  =  11  +  89\n",
      "100  =  17  +  83\n",
      "100  =  29  +  71\n",
      "100  =  41  +  59\n",
      "100  =  47  +  53\n"
     ]
    },
    {
     "data": {
      "text/plain": [
       "0.0006887912750244141"
      ]
     },
     "execution_count": 3,
     "metadata": {},
     "output_type": "execute_result"
    }
   ],
   "source": [
    "goldbach(100)"
   ]
  },
  {
   "cell_type": "code",
   "execution_count": 4,
   "metadata": {},
   "outputs": [],
   "source": [
    "def goldbach_master(n):\n",
    "    start = time()\n",
    "    is_prime = [True] * (n + 1)\n",
    "    i = 2\n",
    "    while (i * i <= n):\n",
    "        if (is_prime[i]):\n",
    "            j = i\n",
    "            while (j * i <= n):\n",
    "                is_prime[i * j] = False\n",
    "                j += 1\n",
    "        i += 1\n",
    "        \n",
    "    count = 0\n",
    "    for i in range(2, n+1):\n",
    "        if (is_prime[i]):\n",
    "            count += 1\n",
    "            \n",
    "    primes = [None] * count\n",
    "    idx = 0\n",
    "    for i in range(2, n + 1):\n",
    "        if (is_prime[i]):\n",
    "            primes[idx] = i\n",
    "            idx += 1\n",
    "    \n",
    "    left = 0\n",
    "    right = count - 1\n",
    "    while (left < right):\n",
    "        if (n == primes[left] + primes[right]):\n",
    "            print(n,\" = \", primes[left], \" + \", primes[right])\n",
    "            left += 1\n",
    "            right -= 1\n",
    "        elif (n > primes[left] + primes[right]):\n",
    "            left += 1\n",
    "        else:\n",
    "            right -= 1\n",
    "    end = time()\n",
    "    return end - start"
   ]
  },
  {
   "cell_type": "code",
   "execution_count": 5,
   "metadata": {},
   "outputs": [
    {
     "name": "stdout",
     "output_type": "stream",
     "text": [
      "100  =  3  +  97\n",
      "100  =  11  +  89\n",
      "100  =  17  +  83\n",
      "100  =  29  +  71\n",
      "100  =  41  +  59\n",
      "100  =  47  +  53\n"
     ]
    },
    {
     "data": {
      "text/plain": [
       "0.002071380615234375"
      ]
     },
     "execution_count": 5,
     "metadata": {},
     "output_type": "execute_result"
    }
   ],
   "source": [
    "goldbach_master(100)"
   ]
  },
  {
   "cell_type": "code",
   "execution_count": null,
   "metadata": {},
   "outputs": [],
   "source": []
  }
 ],
 "metadata": {
  "kernelspec": {
   "display_name": "Python 3",
   "language": "python",
   "name": "python3"
  },
  "language_info": {
   "codemirror_mode": {
    "name": "ipython",
    "version": 3
   },
   "file_extension": ".py",
   "mimetype": "text/x-python",
   "name": "python",
   "nbconvert_exporter": "python",
   "pygments_lexer": "ipython3",
   "version": "3.6.3"
  }
 },
 "nbformat": 4,
 "nbformat_minor": 2
}
