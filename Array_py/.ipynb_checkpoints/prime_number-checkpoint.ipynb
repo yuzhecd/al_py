{
 "cells": [
  {
   "cell_type": "code",
   "execution_count": 2,
   "metadata": {},
   "outputs": [],
   "source": [
    "import math\n",
    "from time import time"
   ]
  },
  {
   "cell_type": "code",
   "execution_count": 27,
   "metadata": {},
   "outputs": [],
   "source": [
    "def find_prime_simple(number):\n",
    "    start = time()\n",
    "    num_boolean = [True for i in range(len(number))]\n",
    "    for i in range(2, len(number)):\n",
    "        for j in range(2, math.floor(math.sqrt(i)) + 1):\n",
    "            if i % j == 0:\n",
    "                num_boolean[i] = False\n",
    "                break\n",
    "    end = time()\n",
    "    return num_boolean, end - start"
   ]
  },
  {
   "cell_type": "code",
   "execution_count": 38,
   "metadata": {},
   "outputs": [],
   "source": [
    "number = [i for i in range(1000000)]"
   ]
  },
  {
   "cell_type": "code",
   "execution_count": 39,
   "metadata": {},
   "outputs": [
    {
     "data": {
      "text/plain": [
       "4.817834854125977"
      ]
     },
     "execution_count": 39,
     "metadata": {},
     "output_type": "execute_result"
    }
   ],
   "source": [
    "result_simple,time_use = find_prime_simple(number)\n",
    "time_use"
   ]
  },
  {
   "cell_type": "markdown",
   "metadata": {},
   "source": [
    "### Improve"
   ]
  },
  {
   "cell_type": "code",
   "execution_count": 35,
   "metadata": {},
   "outputs": [],
   "source": [
    "def count_prime(number):\n",
    "    start = time()\n",
    "    num_boolean = [True] * len(number)\n",
    "    i = 2\n",
    "    for i in range(2,len(number)):\n",
    "        if num_boolean[i]:\n",
    "            j = 2\n",
    "            while j * i <= len(number) - 1:\n",
    "                num_boolean[j*i] = False\n",
    "                j += 1\n",
    "    end = time()\n",
    "    return num_boolean, end - start\n",
    "            "
   ]
  },
  {
   "cell_type": "code",
   "execution_count": 36,
   "metadata": {},
   "outputs": [],
   "source": [
    "number = [i for i in range(1000000)]"
   ]
  },
  {
   "cell_type": "code",
   "execution_count": 45,
   "metadata": {},
   "outputs": [
    {
     "data": {
      "text/plain": [
       "0.8034305572509766"
      ]
     },
     "execution_count": 45,
     "metadata": {},
     "output_type": "execute_result"
    }
   ],
   "source": [
    "result_master, time_use = count_prime(number)\n",
    "time_use"
   ]
  },
  {
   "cell_type": "code",
   "execution_count": 40,
   "metadata": {},
   "outputs": [
    {
     "data": {
      "text/plain": [
       "True"
      ]
     },
     "execution_count": 40,
     "metadata": {},
     "output_type": "execute_result"
    }
   ],
   "source": [
    "result_simple == result_master"
   ]
  },
  {
   "cell_type": "code",
   "execution_count": 41,
   "metadata": {},
   "outputs": [],
   "source": [
    "def count_prime_2(number):\n",
    "    start = time()\n",
    "    num_len = len(number)\n",
    "    num_boolean = [True] * num_len\n",
    "    i = 2\n",
    "    for i in range(2,num_len):\n",
    "        if num_boolean[i]:\n",
    "            j = 2\n",
    "            while j * i <= num_len - 1:\n",
    "                num_boolean[j*i] = False\n",
    "                j += 1\n",
    "    end = time()\n",
    "    return num_boolean, end - start"
   ]
  },
  {
   "cell_type": "code",
   "execution_count": 43,
   "metadata": {},
   "outputs": [
    {
     "data": {
      "text/plain": [
       "0.6294906139373779"
      ]
     },
     "execution_count": 43,
     "metadata": {},
     "output_type": "execute_result"
    }
   ],
   "source": [
    "result_master_2, time_use = count_prime_2(number)\n",
    "time_use        "
   ]
  },
  {
   "cell_type": "code",
   "execution_count": 48,
   "metadata": {},
   "outputs": [],
   "source": [
    "def count_prime_3(number):\n",
    "    start = time()\n",
    "    num_len = len(number)\n",
    "    num_boolean = [True] * num_len\n",
    "    i = 2\n",
    "    while i * i < len(number) - 1:\n",
    "        if num_boolean[i]:\n",
    "            j = i\n",
    "            while j * i <= num_len - 1:\n",
    "                num_boolean[j*i] = False\n",
    "                j += 1\n",
    "        i += 1\n",
    "    end = time()\n",
    "    return num_boolean, end - start"
   ]
  },
  {
   "cell_type": "code",
   "execution_count": 75,
   "metadata": {},
   "outputs": [
    {
     "data": {
      "text/plain": [
       "0.43065929412841797"
      ]
     },
     "execution_count": 75,
     "metadata": {},
     "output_type": "execute_result"
    }
   ],
   "source": [
    "result_master_3, time_use = count_prime_3(number)\n",
    "time_use        "
   ]
  },
  {
   "cell_type": "code",
   "execution_count": 46,
   "metadata": {},
   "outputs": [],
   "source": [
    "def count_prime_min(number):\n",
    "    start = time()\n",
    "    num_len = len(number)\n",
    "    is_prime = [True] * num_len\n",
    "    i = 2\n",
    "    while (i * i <= num_len -1):\n",
    "        if (is_prime[i]):\n",
    "            j = i\n",
    "            while (j * i <= num_len -1):\n",
    "                is_prime[i * j] = False\n",
    "                j += 1\n",
    "        i += 1\n",
    "    end = time()\n",
    "    return is_prime, end-start"
   ]
  },
  {
   "cell_type": "code",
   "execution_count": 57,
   "metadata": {},
   "outputs": [
    {
     "data": {
      "text/plain": [
       "0.42995429039001465"
      ]
     },
     "execution_count": 57,
     "metadata": {},
     "output_type": "execute_result"
    }
   ],
   "source": [
    "result_change, time_use = count_prime_min(number)\n",
    "time_use"
   ]
  },
  {
   "cell_type": "code",
   "execution_count": null,
   "metadata": {},
   "outputs": [],
   "source": []
  },
  {
   "cell_type": "code",
   "execution_count": null,
   "metadata": {},
   "outputs": [],
   "source": []
  }
 ],
 "metadata": {
  "kernelspec": {
   "display_name": "Python 3",
   "language": "python",
   "name": "python3"
  },
  "language_info": {
   "codemirror_mode": {
    "name": "ipython",
    "version": 3
   },
   "file_extension": ".py",
   "mimetype": "text/x-python",
   "name": "python",
   "nbconvert_exporter": "python",
   "pygments_lexer": "ipython3",
   "version": "3.6.3"
  }
 },
 "nbformat": 4,
 "nbformat_minor": 2
}
