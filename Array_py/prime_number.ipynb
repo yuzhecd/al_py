{
 "cells": [
  {
   "cell_type": "code",
   "execution_count": 1,
   "metadata": {},
   "outputs": [],
   "source": [
    "import math\n",
    "from time import time"
   ]
  },
  {
   "cell_type": "code",
   "execution_count": 2,
   "metadata": {},
   "outputs": [],
   "source": [
    "def find_prime_simple(number):\n",
    "    start = time()\n",
    "    num_boolean = [True for i in range(len(number))]\n",
    "    for i in range(len(number)):\n",
    "        for j in range(2, math.floor(math.sqrt(i+1)) + 1):\n",
    "            if (i + 1) % j == 0:\n",
    "                num_boolean[i] = False\n",
    "                break\n",
    "    end = time()\n",
    "    return num_boolean, end - start"
   ]
  },
  {
   "cell_type": "code",
   "execution_count": 3,
   "metadata": {},
   "outputs": [],
   "source": [
    "def find_prime(number):\n",
    "    start = time()\n",
    "    num_boolean = [True for i in range(len(number))]\n",
    "    for i in range(len(number)):\n",
    "        if num_boolean[i]:\n",
    "            for j in range(2, math.floor(math.sqrt(i+1)) + 1):\n",
    "                if (i+1) % j == 0:\n",
    "                    num_boolean[i] = False\n",
    "                    break\n",
    "            if num_boolean[i] & (i+1)!=1:\n",
    "                num_mid = (i + 1) * (i + 1)\n",
    "                while num_mid <= len(number):\n",
    "                    num_boolean[num_mid-1] = False\n",
    "                    num_mid = num_mid * num_mid\n",
    "    end = time()                   \n",
    "    return num_boolean, end - start"
   ]
  },
  {
   "cell_type": "code",
   "execution_count": 4,
   "metadata": {},
   "outputs": [],
   "source": [
    "number = [i for i in range(1, 1000000)]"
   ]
  },
  {
   "cell_type": "code",
   "execution_count": 5,
   "metadata": {},
   "outputs": [
    {
     "data": {
      "text/plain": [
       "7.362522602081299"
      ]
     },
     "execution_count": 5,
     "metadata": {},
     "output_type": "execute_result"
    }
   ],
   "source": [
    "result_simple,time_use = find_prime_simple(number)\n",
    "time_use"
   ]
  },
  {
   "cell_type": "code",
   "execution_count": 6,
   "metadata": {
    "scrolled": true
   },
   "outputs": [
    {
     "data": {
      "text/plain": [
       "8.511680126190186"
      ]
     },
     "execution_count": 6,
     "metadata": {},
     "output_type": "execute_result"
    }
   ],
   "source": [
    "result, time_use = find_prime(number)\n",
    "time_use"
   ]
  },
  {
   "cell_type": "code",
   "execution_count": 7,
   "metadata": {},
   "outputs": [
    {
     "data": {
      "text/plain": [
       "True"
      ]
     },
     "execution_count": 7,
     "metadata": {},
     "output_type": "execute_result"
    }
   ],
   "source": [
    "result_simple == result"
   ]
  },
  {
   "cell_type": "code",
   "execution_count": 8,
   "metadata": {},
   "outputs": [],
   "source": [
    "def count_prime(n):\n",
    "    start = time()\n",
    "    is_prime = [True] * (n + 1)\n",
    "    i = 2\n",
    "    while (i * i <= n):\n",
    "        if (is_prime[i]):\n",
    "            j = i\n",
    "            while (j * i <= n):\n",
    "                is_prime[i * j] = False\n",
    "                j += 1\n",
    "        i += 1\n",
    "    end = time()        \n",
    "    return is_prime, end -start\n",
    "        "
   ]
  },
  {
   "cell_type": "code",
   "execution_count": 9,
   "metadata": {},
   "outputs": [
    {
     "data": {
      "text/plain": [
       "0.42761993408203125"
      ]
     },
     "execution_count": 9,
     "metadata": {},
     "output_type": "execute_result"
    }
   ],
   "source": [
    "result_master, time_use = count_prime(1000000)\n",
    "time_use"
   ]
  },
  {
   "cell_type": "code",
   "execution_count": 10,
   "metadata": {},
   "outputs": [],
   "source": [
    "def count_prime_change(number):\n",
    "    start = time()\n",
    "    num_len = len(number)\n",
    "    is_prime = [True] * num_len\n",
    "    i = 2\n",
    "    while (i * i <= num_len - 1):\n",
    "        if (is_prime[i]):\n",
    "            j = i\n",
    "            while (j * i <= num_len - 1):\n",
    "                is_prime[i * j] = False\n",
    "                j += 1\n",
    "        i += 1\n",
    "    end = time()        \n",
    "    return is_prime, end -start\n",
    "        "
   ]
  },
  {
   "cell_type": "code",
   "execution_count": 11,
   "metadata": {},
   "outputs": [
    {
     "data": {
      "text/plain": [
       "0.46181797981262207"
      ]
     },
     "execution_count": 11,
     "metadata": {},
     "output_type": "execute_result"
    }
   ],
   "source": [
    "result_change, time_use = count_prime_change(number)\n",
    "time_use"
   ]
  },
  {
   "cell_type": "code",
   "execution_count": null,
   "metadata": {},
   "outputs": [],
   "source": []
  }
 ],
 "metadata": {
  "kernelspec": {
   "display_name": "Python 3",
   "language": "python",
   "name": "python3"
  },
  "language_info": {
   "codemirror_mode": {
    "name": "ipython",
    "version": 3
   },
   "file_extension": ".py",
   "mimetype": "text/x-python",
   "name": "python",
   "nbconvert_exporter": "python",
   "pygments_lexer": "ipython3",
   "version": "3.6.3"
  }
 },
 "nbformat": 4,
 "nbformat_minor": 2
}
